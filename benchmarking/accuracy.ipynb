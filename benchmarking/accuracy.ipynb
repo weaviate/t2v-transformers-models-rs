{
 "cells": [
  {
   "cell_type": "code",
   "execution_count": 1,
   "metadata": {},
   "outputs": [],
   "source": [
    "import numpy as np\n",
    "import json\n",
    "import requests\n",
    "import time\n",
    "import typing\n",
    "\n",
    "def send(obj: typing.Dict[str, typing.Any], s: requests.Session, port: int) -> list[float] | None:\n",
    "    start = time.time()\n",
    "    res = s.post(f\"http://localhost:{port}/vectors\", json={\n",
    "        \"text\": obj[\"raw\"],\n",
    "    })\n",
    "    taken = time.time() - start\n",
    "    # print(f\"Retrieved vector in {taken:.2f} seconds\")\n",
    "    if res.status_code != 200:\n",
    "        print(f\"Failed to retrieve vector for {obj['id']} with text {obj['raw']}\")\n",
    "        print(res.text)\n",
    "        return None\n",
    "    return res.json()[\"vector\"]\n",
    "\n",
    "def run() -> None:\n",
    "    objs: typing.List[str] = []\n",
    "    with open(\"data/sphere.1M.jsonl\", \"r\") as file:\n",
    "        for i, obj in enumerate(file):\n",
    "            objs.append(obj)\n",
    "            if (i + 1) % 10000 == 0:\n",
    "                break\n",
    "    session = requests.Session()\n",
    "    for obj in objs:\n",
    "        rs = send(json.loads(obj), session, 3000)\n",
    "        py = send(json.loads(obj), session, 8080)\n",
    "        if rs is None or py is None:\n",
    "            continue\n",
    "        print(np.dot(rs, py) / (np.linalg.norm(rs) * np.linalg.norm(py)))\n",
    "        # break"
   ]
  },
  {
   "cell_type": "code",
   "execution_count": 2,
   "metadata": {},
   "outputs": [
    {
     "name": "stdout",
     "output_type": "stream",
     "text": [
      "0.9999991905541863\n",
      "0.9999993148916486\n",
      "0.9999989854455508\n",
      "0.9999988778170573\n",
      "0.999998938809986\n",
      "0.9999992194842373\n",
      "0.9999990808062262\n",
      "0.9999986546736962\n",
      "0.9999990103126792\n",
      "0.9999993231753656\n",
      "0.9999992073494727\n",
      "0.9999992298445024\n",
      "0.9999993819026148\n",
      "0.9999989206505138\n",
      "0.9999991468921602\n",
      "0.9999993262479933\n",
      "0.9999989984405909\n",
      "0.9999993128463014\n",
      "0.9999989167767991\n"
     ]
    }
   ],
   "source": [
    "run()"
   ]
  }
 ],
 "metadata": {
  "kernelspec": {
   "display_name": "venv",
   "language": "python",
   "name": "python3"
  },
  "language_info": {
   "codemirror_mode": {
    "name": "ipython",
    "version": 3
   },
   "file_extension": ".py",
   "mimetype": "text/x-python",
   "name": "python",
   "nbconvert_exporter": "python",
   "pygments_lexer": "ipython3",
   "version": "3.11.6"
  }
 },
 "nbformat": 4,
 "nbformat_minor": 2
}
