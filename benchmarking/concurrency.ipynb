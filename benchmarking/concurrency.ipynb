{
 "cells": [
  {
   "cell_type": "markdown",
   "metadata": {},
   "source": [
    "# Concurrency in `rs` vs `py` for the Transformers Vectorization Microservice"
   ]
  },
  {
   "cell_type": "markdown",
   "metadata": {},
   "source": [
    "Make sure to spin up the docker compose stack where the services are running with `docker compose up --build`"
   ]
  },
  {
   "cell_type": "markdown",
   "metadata": {},
   "source": [
    "## Define the methods of the run"
   ]
  },
  {
   "cell_type": "code",
   "execution_count": 1,
   "metadata": {},
   "outputs": [],
   "source": [
    "import concurrent.futures\n",
    "import json\n",
    "import requests\n",
    "import time\n",
    "import typing\n",
    "\n",
    "def send(obj: typing.Dict[str, typing.Any], s: requests.Session, port: int) -> float:\n",
    "    start = time.time()\n",
    "    res = s.post(f\"http://localhost:{port}/vectors\", json={\n",
    "        \"text\": obj[\"raw\"],\n",
    "    })\n",
    "    taken = time.time() - start\n",
    "    print(f\"Retrieved vector in {taken:.2f} seconds\")\n",
    "    if res.status_code != 200:\n",
    "        print(f\"Failed to retrieve vector for {obj['id']} with text {obj['raw']}\")\n",
    "        print(res.text)\n",
    "    return taken\n",
    "\n",
    "\n",
    "def load(objs: typing.List[str], port: int) -> None:\n",
    "    session = requests.Session()\n",
    "    for obj in objs:\n",
    "        send(json.loads(obj), session, port)\n",
    "\n",
    "def run(port: int) -> None:\n",
    "    futures: typing.List[concurrent.futures.Future] = []\n",
    "    objs: typing.List[str] = []\n",
    "    with open(\"data/sphere.1M.jsonl\", \"r\") as file:\n",
    "        for i, obj in enumerate(file):\n",
    "            objs.append(obj)\n",
    "            if (i + 1) % 10000 == 0:\n",
    "                break\n",
    "    print(f\"Loaded {len(objs)} objects\")\n",
    "    print(\"Starting benchmark\")\n",
    "    with concurrent.futures.ThreadPoolExecutor(max_workers=16) as executor:\n",
    "        for i in range(4):\n",
    "            futures.append(executor.submit(load, objs, port))\n",
    "        print(\"Scheduled all tasks, waiting for completion\")\n",
    "        concurrent.futures.wait(futures)"
   ]
  },
  {
   "cell_type": "markdown",
   "metadata": {},
   "source": [
    "## Run against the rust service"
   ]
  },
  {
   "cell_type": "code",
   "execution_count": 2,
   "metadata": {},
   "outputs": [
    {
     "name": "stdout",
     "output_type": "stream",
     "text": [
      "Loaded 10000 objects\n",
      "Starting benchmark\n",
      "Scheduled all tasks, waiting for completion\n",
      "Retrieved vector in 0.22 seconds\n",
      "Retrieved vector in 0.22 seconds\n",
      "Retrieved vector in 0.22 seconds\n",
      "Retrieved vector in 0.22 seconds\n",
      "Retrieved vector in 0.15 seconds\n",
      "Retrieved vector in 0.15 seconds\n",
      "Retrieved vector in 0.17 seconds\n",
      "Retrieved vector in 0.32 seconds\n",
      "Retrieved vector in 0.17 seconds\n",
      "Retrieved vector in 0.32 seconds\n",
      "Retrieved vector in 0.14 seconds\n",
      "Retrieved vector in 0.19 seconds\n",
      "Retrieved vector in 0.14 seconds\n",
      "Retrieved vector in 0.11 seconds\n",
      "Retrieved vector in 0.13 seconds\n",
      "Retrieved vector in 0.23 seconds\n",
      "Retrieved vector in 0.10 seconds\n",
      "Retrieved vector in 0.06 seconds\n",
      "Retrieved vector in 0.06 seconds\n",
      "Retrieved vector in 0.61 seconds\n",
      "Retrieved vector in 0.16 seconds\n",
      "Retrieved vector in 0.12 seconds\n",
      "Retrieved vector in 0.16 seconds\n",
      "Retrieved vector in 0.13 seconds\n",
      "Retrieved vector in 0.86 seconds\n",
      "Retrieved vector in 0.13 seconds\n",
      "Retrieved vector in 0.16 seconds\n",
      "Retrieved vector in 0.17 seconds\n",
      "Retrieved vector in 0.17 seconds\n",
      "Retrieved vector in 0.11 seconds\n",
      "Retrieved vector in 0.40 seconds\n",
      "Retrieved vector in 0.11 seconds\n",
      "Retrieved vector in 0.11 seconds\n",
      "Retrieved vector in 0.12 seconds\n",
      "Retrieved vector in 0.05 seconds\n",
      "Retrieved vector in 0.20 seconds\n",
      "Retrieved vector in 0.41 seconds\n",
      "Retrieved vector in 0.16 seconds\n",
      "Retrieved vector in 0.17 seconds\n",
      "Retrieved vector in 0.13 seconds\n",
      "Retrieved vector in 0.13 seconds\n",
      "Retrieved vector in 0.06 seconds\n",
      "Retrieved vector in 0.13 seconds\n",
      "Retrieved vector in 0.15 seconds\n",
      "Retrieved vector in 0.16 seconds\n",
      "Retrieved vector in 0.16 seconds\n",
      "Retrieved vector in 0.12 seconds\n",
      "Retrieved vector in 0.61 seconds\n",
      "Retrieved vector in 0.13 seconds\n",
      "Retrieved vector in 0.14 seconds\n",
      "Retrieved vector in 0.15 seconds\n",
      "Retrieved vector in 0.13 seconds\n",
      "Retrieved vector in 0.06 seconds\n",
      "Retrieved vector in 0.14 seconds\n",
      "Retrieved vector in 0.14 seconds\n",
      "Retrieved vector in 0.42 seconds\n",
      "Retrieved vector in 0.04 seconds\n",
      "Retrieved vector in 0.04 seconds\n",
      "Retrieved vector in 0.22 seconds\n",
      "Retrieved vector in 0.15 seconds\n",
      "Retrieved vector in 0.17 seconds\n",
      "Retrieved vector in 0.14 seconds\n",
      "Retrieved vector in 0.03 seconds\n",
      "Retrieved vector in 0.14 seconds\n",
      "Retrieved vector in 0.13 seconds\n",
      "Retrieved vector in 0.15 seconds\n",
      "Retrieved vector in 0.33 seconds\n",
      "Retrieved vector in 0.13 seconds\n",
      "Retrieved vector in 0.15 seconds\n",
      "Retrieved vector in 0.18 seconds\n",
      "Retrieved vector in 0.27 seconds\n",
      "Retrieved vector in 0.04 seconds\n",
      "Retrieved vector in 0.18 seconds\n"
     ]
    }
   ],
   "source": [
    "run(3000)"
   ]
  },
  {
   "cell_type": "markdown",
   "metadata": {},
   "source": [
    "## Run against the python service"
   ]
  },
  {
   "cell_type": "code",
   "execution_count": 2,
   "metadata": {},
   "outputs": [
    {
     "name": "stdout",
     "output_type": "stream",
     "text": [
      "Loaded 10000 objects\n",
      "Starting benchmark\n",
      "Scheduled all tasks, waiting for completion\n"
     ]
    }
   ],
   "source": [
    "run(8080)"
   ]
  }
 ],
 "metadata": {
  "kernelspec": {
   "display_name": "venv",
   "language": "python",
   "name": "python3"
  },
  "language_info": {
   "codemirror_mode": {
    "name": "ipython",
    "version": 3
   },
   "file_extension": ".py",
   "mimetype": "text/x-python",
   "name": "python",
   "nbconvert_exporter": "python",
   "pygments_lexer": "ipython3",
   "version": "3.11.6"
  }
 },
 "nbformat": 4,
 "nbformat_minor": 2
}
