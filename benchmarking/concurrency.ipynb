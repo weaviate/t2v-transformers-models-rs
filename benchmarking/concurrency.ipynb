{
 "cells": [
  {
   "cell_type": "markdown",
   "metadata": {},
   "source": [
    "# Concurrency in `rs` vs `py` for the Transformers Vectorization Microservice"
   ]
  },
  {
   "cell_type": "markdown",
   "metadata": {},
   "source": [
    "Make sure to spin up the docker compose stack where the services are running with `docker compose up --build`"
   ]
  },
  {
   "cell_type": "markdown",
   "metadata": {},
   "source": [
    "## Define the methods of the run"
   ]
  },
  {
   "cell_type": "code",
   "execution_count": 25,
   "metadata": {},
   "outputs": [],
   "source": [
    "import concurrent.futures\n",
    "import random\n",
    "import requests\n",
    "import string\n",
    "import time\n",
    "import typing\n",
    "\n",
    "def send(s: requests.Session, port: int) -> float:\n",
    "    start = time.time()\n",
    "    txt = ''.join(random.choices(string.ascii_lowercase + string.digits, k=2560))\n",
    "    res = s.post(f\"http://localhost:{port}/vectors\", json={\n",
    "        \"text\": txt,\n",
    "    })\n",
    "    taken = time.time() - start\n",
    "    if res.status_code != 200:\n",
    "        print(f\"Failed to retrieve vector with text {txt}\")\n",
    "        print(res.text)\n",
    "    return taken\n",
    "\n",
    "\n",
    "def load(port: int) -> None:\n",
    "    session = requests.Session()\n",
    "    for i in range(100):\n",
    "        taken = send(session, port)\n",
    "        print(f\"Request {i} took {taken:.2f} seconds\")\n",
    "\n",
    "def run(port: int) -> None:\n",
    "    futures: typing.List[concurrent.futures.Future] = []\n",
    "    print(\"Starting benchmark\")\n",
    "    n_concurrent = 20\n",
    "    start = time.time()\n",
    "    with concurrent.futures.ThreadPoolExecutor(max_workers=n_concurrent) as executor:\n",
    "        for _ in range(n_concurrent):\n",
    "            futures.append(executor.submit(load, port))\n",
    "        print(\"Scheduled all tasks, waiting for completion\")\n",
    "        concurrent.futures.wait(futures)\n",
    "    print(f\"Vectorised {n_concurrent * 100} texts in {time.time() - start:.2f} seconds\")"
   ]
  },
  {
   "cell_type": "markdown",
   "metadata": {},
   "source": [
    "## Run against the rust service"
   ]
  },
  {
   "cell_type": "code",
   "execution_count": null,
   "metadata": {},
   "outputs": [],
   "source": [
    "run(3000)"
   ]
  },
  {
   "cell_type": "markdown",
   "metadata": {},
   "source": [
    "## Run against the python service"
   ]
  },
  {
   "cell_type": "code",
   "execution_count": null,
   "metadata": {},
   "outputs": [],
   "source": [
    "run(8080)"
   ]
  }
 ],
 "metadata": {
  "kernelspec": {
   "display_name": "venv",
   "language": "python",
   "name": "python3"
  },
  "language_info": {
   "codemirror_mode": {
    "name": "ipython",
    "version": 3
   },
   "file_extension": ".py",
   "mimetype": "text/x-python",
   "name": "python",
   "nbconvert_exporter": "python",
   "pygments_lexer": "ipython3",
   "version": "3.10.12"
  }
 },
 "nbformat": 4,
 "nbformat_minor": 2
}
